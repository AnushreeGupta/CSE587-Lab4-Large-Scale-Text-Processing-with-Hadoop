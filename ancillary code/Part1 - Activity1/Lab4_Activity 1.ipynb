{
 "cells": [
  {
   "cell_type": "markdown",
   "metadata": {},
   "source": [
    "## Actvity 1: What’s trending?: Wordcount on tweets\n",
    "\n",
    "Collect tweets using the approach you used in Lab1. However this time you will collect tweets about a certain domain, say, soccer or economy. Run “wordcount” on the tweets (may be on the @word and #tags) and visualize the output using “tag cloud” or “word cloud’. (This can be dynamic and realtime too!) Use the VM you installed in the preparation for this lab. \n",
    "\n",
    "Input: Tweets for a given domain\n",
    "\n",
    "Output: Word-cloud for the Input\n",
    "\n",
    "Processing: MR on HDFS"
   ]
  },
  {
   "cell_type": "markdown",
   "metadata": {},
   "source": [
    "### Collecting the tweets. Topic choosen: English Premier League"
   ]
  },
  {
   "cell_type": "code",
   "execution_count": 1,
   "metadata": {},
   "outputs": [
    {
     "name": "stderr",
     "output_type": "stream",
     "text": [
      "Updating HTML index of packages in '.Library'\n",
      "Making 'packages.html' ... done\n",
      "Warning message in install.packages(\"dplyr\"):\n",
      "“installation of package ‘dplyr’ had non-zero exit status”Updating HTML index of packages in '.Library'\n",
      "Making 'packages.html' ... done\n"
     ]
    }
   ],
   "source": [
    "#Step 1: Install all the required packages to complete Problem 1\n",
    "\n",
    "install.packages(\"twitteR\")\n",
    "install.packages(\"dplyr\")"
   ]
  },
  {
   "cell_type": "code",
   "execution_count": 2,
   "metadata": {},
   "outputs": [
    {
     "name": "stderr",
     "output_type": "stream",
     "text": [
      "\n",
      "Attaching package: ‘dplyr’\n",
      "\n",
      "The following objects are masked from ‘package:twitteR’:\n",
      "\n",
      "    id, location\n",
      "\n",
      "The following objects are masked from ‘package:stats’:\n",
      "\n",
      "    filter, lag\n",
      "\n",
      "The following objects are masked from ‘package:base’:\n",
      "\n",
      "    intersect, setdiff, setequal, union\n",
      "\n"
     ]
    }
   ],
   "source": [
    "#Step 2:Import all the above installed packages\n",
    "\n",
    "library(twitteR)\n",
    "library(dplyr)"
   ]
  },
  {
   "cell_type": "code",
   "execution_count": 3,
   "metadata": {},
   "outputs": [
    {
     "name": "stdout",
     "output_type": "stream",
     "text": [
      "[1] \"Using direct authentication\"\n"
     ]
    }
   ],
   "source": [
    "#Step 3: Authenticating in order to use the Twitter Search API\n",
    "\n",
    "setup_twitter_oauth(\"cThiEKEuj1xbncJEbCAXFOmUO\",\"0x6ka7SGH40pzw3L9ccvMThqO6FezQXDNeJp6DK947jxOAZFRV\", \"772583706783612932-2MPBfAcvpRzXP78C3aeYYFof7Xfj5vk\", \"GgOWWzRDhBuSYD0jaPvHAZCAH4WPg3RolpOdNtVjDnHnC\")"
   ]
  },
  {
   "cell_type": "code",
   "execution_count": 21,
   "metadata": {
    "collapsed": true
   },
   "outputs": [],
   "source": [
    "#Step 4: Search and fetch tweets via Twitter Search API \n",
    "\n",
    "query <- \"#PremierLeague\"\n",
    "tweets <- searchTwitter(query, n=500)"
   ]
  },
  {
   "cell_type": "code",
   "execution_count": 22,
   "metadata": {
    "collapsed": true
   },
   "outputs": [],
   "source": [
    "#Step 5: Stripping retweets from the tweets collected\n",
    "\n",
    "no_retweets <- strip_retweets(tweets)\n",
    "tweets_df <-twListToDF(no_retweets)"
   ]
  },
  {
   "cell_type": "code",
   "execution_count": 26,
   "metadata": {},
   "outputs": [
    {
     "data": {
      "text/html": [
       "383"
      ],
      "text/latex": [
       "383"
      ],
      "text/markdown": [
       "383"
      ],
      "text/plain": [
       "[1] 383"
      ]
     },
     "metadata": {},
     "output_type": "display_data"
    }
   ],
   "source": [
    "nrow(tweets_df)"
   ]
  },
  {
   "cell_type": "code",
   "execution_count": 29,
   "metadata": {
    "collapsed": true
   },
   "outputs": [],
   "source": [
    "#Step 6: Saving the tweets for future use.  \n",
    "\n",
    "write.csv(tweets_df, file = \"/home/anushree/DIC_Lab_4/EPL_tweets.csv\")"
   ]
  },
  {
   "cell_type": "code",
   "execution_count": 30,
   "metadata": {
    "collapsed": true
   },
   "outputs": [],
   "source": [
    "#Step 7: Clean the collected tweets\n",
    "\n",
    "tweets_df <- read.csv(file = \"/home/anushree/DIC_Lab_4/EPL_tweets.csv\")\n",
    "tweets_text <- as.data.frame(tweets_df$text)"
   ]
  },
  {
   "cell_type": "code",
   "execution_count": 31,
   "metadata": {
    "collapsed": true
   },
   "outputs": [],
   "source": [
    "#Step 8: Delete the extra spaces in the tweets\n",
    "\n",
    "tweets_text <-  as.data.frame(lapply(tweets_text, trimws))"
   ]
  },
  {
   "cell_type": "code",
   "execution_count": 34,
   "metadata": {
    "collapsed": true,
    "scrolled": true
   },
   "outputs": [],
   "source": [
    "#Step 9: Save the collected tweets to a text file\n",
    "\n",
    "write.table(tweets_text, \"EPL_cleanedTweets.txt\",sep=\"\\t\",row.names=FALSE)"
   ]
  },
  {
   "cell_type": "markdown",
   "metadata": {},
   "source": [
    "### Making a word cloud"
   ]
  },
  {
   "cell_type": "markdown",
   "metadata": {},
   "source": [
    "#### I tried all the below ways to install the wordcloud package but was not able to install. Hence I have used a different approach to make the wordcloud as described in README.txt"
   ]
  },
  {
   "cell_type": "code",
   "execution_count": 46,
   "metadata": {},
   "outputs": [
    {
     "name": "stderr",
     "output_type": "stream",
     "text": [
      "Warning message in install.packages(\"wordcloud\"):\n",
      "“installation of package ‘wordcloud’ had non-zero exit status”Updating HTML index of packages in '.Library'\n",
      "Making 'packages.html' ... done\n",
      "Updating HTML index of packages in '.Library'\n",
      "Making 'packages.html' ... done\n"
     ]
    }
   ],
   "source": [
    "install.packages (\"wordcloud\")\n",
    "install.packages (\"RColorBrewer\")"
   ]
  },
  {
   "cell_type": "code",
   "execution_count": 4,
   "metadata": {},
   "outputs": [
    {
     "name": "stderr",
     "output_type": "stream",
     "text": [
      "Warning message in install.packages(\"wordcloud\", repos = \"http://cran.us.r-project.org\"):\n",
      "“installation of package ‘wordcloud’ had non-zero exit status”Updating HTML index of packages in '.Library'\n",
      "Making 'packages.html' ... done\n"
     ]
    }
   ],
   "source": [
    "install.packages('wordcloud', repos='http://cran.us.r-project.org')"
   ]
  },
  {
   "cell_type": "code",
   "execution_count": 7,
   "metadata": {},
   "outputs": [
    {
     "name": "stderr",
     "output_type": "stream",
     "text": [
      "Warning message in install.packages(\"wordcloud/R//cloud.R\", repos = NULL, type = \"source\"):\n",
      "“installation of package ‘wordcloud/R//cloud.R’ had non-zero exit status”"
     ]
    }
   ],
   "source": [
    "install.packages(\"wordcloud/\", repos = NULL, type=\"source\")"
   ]
  },
  {
   "cell_type": "code",
   "execution_count": null,
   "metadata": {
    "collapsed": true
   },
   "outputs": [],
   "source": []
  }
 ],
 "metadata": {
  "kernelspec": {
   "display_name": "R",
   "language": "R",
   "name": "ir"
  },
  "language_info": {
   "codemirror_mode": "r",
   "file_extension": ".r",
   "mimetype": "text/x-r-source",
   "name": "R",
   "pygments_lexer": "r",
   "version": "3.3.2"
  }
 },
 "nbformat": 4,
 "nbformat_minor": 2
}
